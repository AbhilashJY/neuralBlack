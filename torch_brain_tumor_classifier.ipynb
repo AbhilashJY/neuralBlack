{
 "cells": [
  {
   "cell_type": "markdown",
   "metadata": {
    "colab_type": "text",
    "id": "43754Epan7bx"
   },
   "source": [
    "# Brain Tumor Classification\n",
    "\n",
    "A Brain Tumor Classifier using fine-tuned ResNet50 Neural Network architecture with almost 99 % Accuracy achieved by applying the method of Transfer Learning.\n",
    "\n",
    "Given an MRI image of brain, classify the tumor into **Meningioma, Glioma, and Pitutary**, if present. \n",
    "\n",
    "Project done using Google Colab with follwing specifications:\n",
    "\n",
    "* Ubuntu 18.04 64-bit OS\n",
    "* 12 GB DDR4 RAM\n",
    "* 8 GB NVidia Tesla K40 GPU\n",
    "* 40 GB of Non-Persistent Storage\n",
    "\n",
    "Refer [brain_tumor_dataset_preparation.ipynb](brain_tumor_dataset_preparation.ipynb) for dataset preparation & pre-processing that we did."
   ]
  },
  {
   "cell_type": "markdown",
   "metadata": {
    "colab_type": "text",
    "id": "s4k9AZlhoVgg"
   },
   "source": [
    "## Import Necessary Libraries\n",
    "\n",
    "We'll be using the following libraries to complete our classification problem:\n",
    "\n",
    "* Numpy - For linear algebra operations \n",
    "* Torch - Pytorch Deep Learning Framework\n",
    "* Torch NN - Neural network class from Pytorch library\n",
    "* Torch NN Functional - Functional Neural Network class from Pytorch library\n",
    "* Torch Utils Data: DataLoader, Dataset - Dataset class used to create custom dataset class by subclassing it and DataLoader is used to laod data in batches using dataset class in real-time.\n",
    "* Torchvision: Transforms, Models - Trochvision provides augmentation techniques using transforms class and transfer learning models are available in models class\n",
    "* OS - To use Operating System methods\n",
    "* Random - To set random seed at specific places where random operations take place just so it happens the same way everytime it is executed\n",
    "* Pandas - To create DataFrame, CSV files, etc\n",
    "* Time - To perform date time operations\n",
    "* Seaborn - For sophisticated visualization\n",
    "* Pickle - To save and load binary files of our training data\n",
    "* Scikit-Learn - For evaluating our Classifier and for cross-validation split\n",
    "* Matplotlib - To visualize images, losses and accuracy\n",
    "* Google Colab Drive - To mount Google Drive so we can perform storage and loading operations using it\n",
    "\n",
    "To install the requirements, refer [requirements.txt](requirements.txt) file\n",
    "\n",
    " `pip3 install -r requirements.txt`\n",
    "                      \n",
    "Let's go ahead and import the required libraries"
   ]
  },
  {
   "cell_type": "code",
   "execution_count": 0,
   "metadata": {
    "colab": {},
    "colab_type": "code",
    "id": "ppY0E2oBcXNu"
   },
   "outputs": [],
   "source": [
    "import torch\n",
    "import torch.nn as nn\n",
    "import torch.nn.functional as F\n",
    "from torch.utils.data import DataLoader, Dataset\n",
    "from torchvision import transforms, models\n",
    "import os\n",
    "import random\n",
    "import numpy as np\n",
    "import pandas as pd\n",
    "import pickle\n",
    "import time\n",
    "import matplotlib.pyplot as plt\n",
    "import seaborn as sns\n",
    "from sklearn.model_selection import train_test_split\n",
    "from sklearn.metrics import confusion_matrix, classification_report, jaccard_similarity_score\n",
    "from google.colab import drive "
   ]
  },
  {
   "cell_type": "markdown",
   "metadata": {
    "colab_type": "text",
    "id": "YyPnviwkoaRh"
   },
   "source": [
    "Print Pytorch's version"
   ]
  },
  {
   "cell_type": "code",
   "execution_count": 0,
   "metadata": {
    "colab": {
     "base_uri": "https://localhost:8080/",
     "height": 34
    },
    "colab_type": "code",
    "id": "uY8S0R76sj90",
    "outputId": "117ff34c-3692-49e1-a5ce-208c86cdf62d"
   },
   "outputs": [
    {
     "data": {
      "text/plain": [
       "'1.4.0'"
      ]
     },
     "execution_count": 2,
     "metadata": {
      "tags": []
     },
     "output_type": "execute_result"
    }
   ],
   "source": [
    "torch.__version__"
   ]
  },
  {
   "cell_type": "markdown",
   "metadata": {
    "colab_type": "text",
    "id": "mQ_bNRuloctt"
   },
   "source": [
    "Import Google Drive for persistent storage of our training data, neural network model weights and other required files."
   ]
  },
  {
   "cell_type": "code",
   "execution_count": 0,
   "metadata": {
    "colab": {
     "base_uri": "https://localhost:8080/",
     "height": 54
    },
    "colab_type": "code",
    "id": "SMpvVU6Tq2jy",
    "outputId": "b76c308a-7a54-4e31-dd9c-8dc1e00140e1"
   },
   "outputs": [
    {
     "name": "stdout",
     "output_type": "stream",
     "text": [
      "Drive already mounted at /content/drive; to attempt to forcibly remount, call drive.mount(\"/content/drive\", force_remount=True).\n"
     ]
    }
   ],
   "source": [
    "drive.mount('/content/drive')"
   ]
  },
  {
   "cell_type": "markdown",
   "metadata": {
    "colab_type": "text",
    "id": "go-hqw0wokrN"
   },
   "source": [
    "Empty GPU's memory/cache for training so we'd clear garbage values in it and more memory will be available"
   ]
  },
  {
   "cell_type": "code",
   "execution_count": 0,
   "metadata": {
    "colab": {},
    "colab_type": "code",
    "id": "XOjZidblq5JL"
   },
   "outputs": [],
   "source": [
    "torch.cuda.empty_cache()"
   ]
  },
  {
   "cell_type": "markdown",
   "metadata": {
    "colab_type": "text",
    "id": "zjPKpYJTooMG"
   },
   "source": [
    "## Custom Dataset Class\n",
    "\n",
    "Create a custom dataset class that augments each image into 4 different angles: 0, 45, 90, 120, 180, 270, 300, 330 degrees. Fuse it with Pytorch's DataLoader class so data can be loaded, augmented and trained in realtime instead of caching all training samples in memory for augmenting."
   ]
  },
  {
   "cell_type": "code",
   "execution_count": 0,
   "metadata": {
    "colab": {},
    "colab_type": "code",
    "id": "V4PuME0qmFvZ"
   },
   "outputs": [],
   "source": [
    "class BrainTumorDataset(Dataset):\n",
    "  def __init__(self, images, labels):\n",
    "    # images\n",
    "    self.X = images\n",
    "    # labels\n",
    "    self.y = labels\n",
    "    \n",
    "    # Transformation for converting original image array to an image and then convert it to a tensor\n",
    "    self.transform = transforms.Compose([transforms.ToPILImage(),\n",
    "        transforms.ToTensor()\n",
    "    ])\n",
    "\n",
    "    # Transformation for converting original image array to an image, rotate it randomly between -45 degrees and 45 degrees, and then convert it to a tensor\n",
    "    self.transform1 = transforms.Compose([\n",
    "        transforms.ToPILImage(),                                          \n",
    "        transforms.RandomRotation(45),\n",
    "        transforms.ToTensor()                                  \n",
    "    ])\n",
    "\n",
    "    # Transformation for converting original image array to an image, rotate it randomly between -90 degrees and 90 degrees, and then convert it to a tensor\n",
    "    self.transform2 = transforms.Compose([\n",
    "        transforms.ToPILImage(),\n",
    "        transforms.RandomRotation(90),\n",
    "        transforms.ToTensor()                                  \n",
    "    ])\n",
    "\n",
    "    # Transformation for converting original image array to an image, rotate it randomly between -120 degrees and 120 degrees, and then convert it to a tensor\n",
    "    self.transform3 = transforms.Compose([\n",
    "        transforms.ToPILImage(),\n",
    "        transforms.RandomRotation(120),\n",
    "        transforms.ToTensor()                                  \n",
    "    ])\n",
    "\n",
    "    # Transformation for converting original image array to an image, rotate it randomly between -180 degrees and 180 degrees, and then convert it to a tensor\n",
    "    self.transform4 = transforms.Compose([\n",
    "        transforms.ToPILImage(),\n",
    "        transforms.RandomRotation(180),\n",
    "        transforms.ToTensor()                                  \n",
    "    ])\n",
    "\n",
    "    # Transformation for converting original image array to an image, rotate it randomly between -270 degrees and 270 degrees, and then convert it to a tensor\n",
    "    self.transform5 = transforms.Compose([\n",
    "        transforms.ToPILImage(),\n",
    "        transforms.RandomRotation(270),\n",
    "        transforms.ToTensor()                                  \n",
    "    ])\n",
    "\n",
    "    # Transformation for converting original image array to an image, rotate it randomly between -300 degrees and 300 degrees, and then convert it to a tensor\n",
    "    self.transform6 = transforms.Compose([\n",
    "        transforms.ToPILImage(),\n",
    "        transforms.RandomRotation(300),\n",
    "        transforms.ToTensor()                                  \n",
    "    ])\n",
    "\n",
    "    # Transformation for converting original image array to an image, rotate it randomly between -330 degrees and 330 degrees, and then convert it to a tensor\n",
    "    self.transform7 = transforms.Compose([\n",
    "        transforms.ToPILImage(),\n",
    "        transforms.RandomRotation(330),\n",
    "        transforms.ToTensor()                                  \n",
    "    ])\n",
    "\n",
    "  def __len__(self):\n",
    "    # return length of image samples\n",
    "    return len(self.X)\n",
    "\n",
    "  def __getitem__(self, idx):\n",
    "    # perform transformations on one instance of X\n",
    "    # Original image as a tensor\n",
    "    data = self.transform(self.X[idx])\n",
    "\n",
    "    # Augmented image at 45 degrees as a tensor\n",
    "    aug45 = self.transform1(self.X[idx])\n",
    "\n",
    "    # Augmented image at 90 degrees as a tensor\n",
    "    aug90 = self.transform2(self.X[idx])\n",
    "\n",
    "    # Augmented image at 120 degrees as a tensor\n",
    "    aug120 = self.transform3(self.X[idx])\n",
    "\n",
    "    # Augmented image at 180 degrees as a tensor\n",
    "    aug180 = self.transform4(self.X[idx])\n",
    "\n",
    "    # Augmented image at 270 degrees as a tensor\n",
    "    aug270 = self.transform5(self.X[idx])\n",
    "\n",
    "    # Augmented image at 300 degrees as a tensor\n",
    "    aug300 = self.transform6(self.X[idx])\n",
    "\n",
    "    # Augmented image at 330 degrees as a tensor\n",
    "    aug330 = self.transform7(self.X[idx])      \n",
    "    \n",
    "    # store the transformed images in a list\n",
    "    new_batch = [data, aug45, aug90, aug120, aug180, aug270, aug300, aug330]\n",
    "\n",
    "    # convert labels to the format output by our classifier\n",
    "    # 1, 2, 3 = 0, 1, 2\n",
    "    # store the network's understandable label as a tensor\n",
    "    labels = torch.tensor((self.y[idx]-1))\n",
    "\n",
    "    # return the label and list of augmented images a tuple\n",
    "    # 8 augmented images per sample will be returned\n",
    "    return (labels, new_batch)"
   ]
  },
  {
   "cell_type": "markdown",
   "metadata": {
    "colab_type": "text",
    "id": "zE6mTnC6pQRD"
   },
   "source": [
    "## Load the Dataset\n",
    "\n",
    "* Load the **training_data.pickle** file. \n",
    "\n",
    "* Store the images and labels in separate lists called Xt & yt."
   ]
  },
  {
   "cell_type": "code",
   "execution_count": 0,
   "metadata": {
    "colab": {},
    "colab_type": "code",
    "id": "trcS9hq8q7Dq"
   },
   "outputs": [],
   "source": [
    "training_data = pickle.load(open('/content/drive/My Drive/Colab Notebooks/new_dataset/training_data.pickle', 'rb'))"
   ]
  },
  {
   "cell_type": "markdown",
   "metadata": {
    "colab_type": "text",
    "id": "-FUX5SScHhEg"
   },
   "source": [
    "Create empty lists for storing our data"
   ]
  },
  {
   "cell_type": "code",
   "execution_count": 0,
   "metadata": {
    "colab": {},
    "colab_type": "code",
    "id": "hY6k--StlVAC"
   },
   "outputs": [],
   "source": [
    "Xt = []\n",
    "yt = []\n",
    "features = None\n",
    "labels = None\n",
    "label = []"
   ]
  },
  {
   "cell_type": "markdown",
   "metadata": {
    "colab_type": "text",
    "id": "chU6n1FDHllX"
   },
   "source": [
    "Store images in Xt and labels in yt iteratively"
   ]
  },
  {
   "cell_type": "code",
   "execution_count": 0,
   "metadata": {
    "colab": {},
    "colab_type": "code",
    "id": "9gQx6_RtlwfE"
   },
   "outputs": [],
   "source": [
    "for features,labels in training_data:\n",
    "  Xt.append(features)\n",
    "  yt.append(labels)"
   ]
  },
  {
   "cell_type": "markdown",
   "metadata": {
    "colab_type": "text",
    "id": "QOlU2ZoCpitc"
   },
   "source": [
    "## Train Validation Test split\n",
    "\n",
    "Split the dataset for training using cross-validation method.\n",
    "\n",
    "* 70 % of images for training \n",
    "* 15% of images for validating\n",
    "* 15% of images for testing\n",
    "\n",
    "Set random seed and random_state to any arbitrary number, so the train_test_split happens the same way everytime the function is called."
   ]
  },
  {
   "cell_type": "code",
   "execution_count": 0,
   "metadata": {
    "colab": {},
    "colab_type": "code",
    "id": "wxT6Znuul5Kq"
   },
   "outputs": [],
   "source": [
    "# 70 % training, 15% validating, 15% testing\n",
    "random.seed(51)\n",
    "X_train, X_test, y_train, y_test = train_test_split(Xt, yt, test_size=0.3, shuffle=True, random_state=33)  # 70% training, 30% testing\n",
    "X_valid, X_test, y_valid, y_test = train_test_split(X_test, y_test, test_size=0.5, shuffle=True, random_state=33)  # split testing set into 50% validation , 50% testing "
   ]
  },
  {
   "cell_type": "markdown",
   "metadata": {
    "colab_type": "text",
    "id": "BWlXaeaVqINY"
   },
   "source": [
    "Empty the previously used lists and arrays to free up RAM / Cache"
   ]
  },
  {
   "cell_type": "code",
   "execution_count": 0,
   "metadata": {
    "colab": {},
    "colab_type": "code",
    "id": "34qYiYRlJoXH"
   },
   "outputs": [],
   "source": [
    "Xt = None\n",
    "yt = None\n",
    "features = None\n",
    "labels = None\n",
    "label = None\n",
    "training_data = None "
   ]
  },
  {
   "cell_type": "markdown",
   "metadata": {
    "colab_type": "text",
    "id": "oKlDZh7VqaJj"
   },
   "source": [
    "Create training set, validation set and test set using our custom dataset class"
   ]
  },
  {
   "cell_type": "code",
   "execution_count": 0,
   "metadata": {
    "colab": {},
    "colab_type": "code",
    "id": "rnTKHLR5mCeI"
   },
   "outputs": [],
   "source": [
    "train_set = BrainTumorDataset(X_train, y_train)\n",
    "valid_set = BrainTumorDataset(X_valid, y_valid)\n",
    "test_set = BrainTumorDataset(X_test, y_test)"
   ]
  },
  {
   "cell_type": "markdown",
   "metadata": {
    "colab_type": "text",
    "id": "tfWO3u4YqiUP"
   },
   "source": [
    "Print original number of samples in each set"
   ]
  },
  {
   "cell_type": "code",
   "execution_count": 0,
   "metadata": {
    "colab": {
     "base_uri": "https://localhost:8080/",
     "height": 68
    },
    "colab_type": "code",
    "id": "MEL7oQ4Y8NIe",
    "outputId": "1d50b398-d744-4421-9eca-1439e4b4e1cc"
   },
   "outputs": [
    {
     "name": "stdout",
     "output_type": "stream",
     "text": [
      "Number of training samples: 2144\n",
      "Number of validation samples: 460\n",
      "Number of testing samples: 460\n"
     ]
    }
   ],
   "source": [
    "print(f\"Number of training samples: {len(X_train)}\")\n",
    "print(f\"Number of validation samples: {len(X_valid)}\")\n",
    "print(f\"Number of testing samples: {len(X_test)}\")"
   ]
  },
  {
   "cell_type": "markdown",
   "metadata": {
    "colab_type": "text",
    "id": "0udsS0Qqql3g"
   },
   "source": [
    "Print augmented number of samples in each set"
   ]
  },
  {
   "cell_type": "code",
   "execution_count": 0,
   "metadata": {
    "colab": {
     "base_uri": "https://localhost:8080/",
     "height": 68
    },
    "colab_type": "code",
    "id": "8PJu7hjEi0Ij",
    "outputId": "9ac13a76-2782-47e8-9c6b-ffcac48eea56"
   },
   "outputs": [
    {
     "name": "stdout",
     "output_type": "stream",
     "text": [
      "Number of augmented training samples: 17152\n",
      "Number of augmented validation samples: 3680\n",
      "Number of augmented testing samples: 3680\n"
     ]
    }
   ],
   "source": [
    "print(f\"Number of augmented training samples: {len(X_train) * 8}\")\n",
    "print(f\"Number of augmented validation samples: {len(X_valid)* 8}\")\n",
    "print(f\"Number of augmented testing samples: {len(X_test)* 8}\")"
   ]
  },
  {
   "cell_type": "markdown",
   "metadata": {
    "colab_type": "text",
    "id": "S9XaKzTZqpW0"
   },
   "source": [
    "Create a DataLoader for each set with batch size of 4 and shuffling enabled"
   ]
  },
  {
   "cell_type": "code",
   "execution_count": 0,
   "metadata": {
    "colab": {},
    "colab_type": "code",
    "id": "-5Eil06jrRUT"
   },
   "outputs": [],
   "source": [
    "train_gen = DataLoader(train_set, batch_size=4, shuffle=True, pin_memory=True, num_workers=8)\n",
    "valid_gen = DataLoader(valid_set, batch_size=4, shuffle=True, pin_memory=True, num_workers=8)\n",
    "test_gen = DataLoader(test_set, batch_size=10, shuffle=True, pin_memory=True, num_workers=8)"
   ]
  },
  {
   "cell_type": "markdown",
   "metadata": {
    "colab_type": "text",
    "id": "VE1aH9bJq1HD"
   },
   "source": [
    "Get device to set the training to run on GPU or CPU later based on its availibility"
   ]
  },
  {
   "cell_type": "code",
   "execution_count": 0,
   "metadata": {
    "colab": {},
    "colab_type": "code",
    "id": "ka_a8OAPtNHY"
   },
   "outputs": [],
   "source": [
    "device_name = \"cuda:0:\" if torch.cuda.is_available() else \"cpu\"\n",
    "device = torch.device(device_name)"
   ]
  },
  {
   "cell_type": "markdown",
   "metadata": {
    "colab_type": "text",
    "id": "eHncA4uwrAnB"
   },
   "source": [
    "## Build the Model\n",
    "\n",
    "* Instantiate the transfer learning model using torchvision's models class.\n",
    "\n",
    "* RESNET50 is the CNN model that we're going to use by transfer learning.\n",
    "\n",
    "* Set all the pretrained weights to trainable by enabling every layer's parameters as true\n",
    "\n",
    "* Build the top layer by creating a custom output sequential layer and assign it to model's fc."
   ]
  },
  {
   "cell_type": "code",
   "execution_count": 0,
   "metadata": {
    "colab": {
     "base_uri": "https://localhost:8080/",
     "height": 1000
    },
    "colab_type": "code",
    "id": "Lq3_lCEttAJk",
    "outputId": "03ff9678-27b0-4f4e-bd0c-08206a142e4e"
   },
   "outputs": [
    {
     "data": {
      "text/plain": [
       "ResNet(\n",
       "  (conv1): Conv2d(3, 64, kernel_size=(7, 7), stride=(2, 2), padding=(3, 3), bias=False)\n",
       "  (bn1): BatchNorm2d(64, eps=1e-05, momentum=0.1, affine=True, track_running_stats=True)\n",
       "  (relu): ReLU(inplace=True)\n",
       "  (maxpool): MaxPool2d(kernel_size=3, stride=2, padding=1, dilation=1, ceil_mode=False)\n",
       "  (layer1): Sequential(\n",
       "    (0): Bottleneck(\n",
       "      (conv1): Conv2d(64, 64, kernel_size=(1, 1), stride=(1, 1), bias=False)\n",
       "      (bn1): BatchNorm2d(64, eps=1e-05, momentum=0.1, affine=True, track_running_stats=True)\n",
       "      (conv2): Conv2d(64, 64, kernel_size=(3, 3), stride=(1, 1), padding=(1, 1), bias=False)\n",
       "      (bn2): BatchNorm2d(64, eps=1e-05, momentum=0.1, affine=True, track_running_stats=True)\n",
       "      (conv3): Conv2d(64, 256, kernel_size=(1, 1), stride=(1, 1), bias=False)\n",
       "      (bn3): BatchNorm2d(256, eps=1e-05, momentum=0.1, affine=True, track_running_stats=True)\n",
       "      (relu): ReLU(inplace=True)\n",
       "      (downsample): Sequential(\n",
       "        (0): Conv2d(64, 256, kernel_size=(1, 1), stride=(1, 1), bias=False)\n",
       "        (1): BatchNorm2d(256, eps=1e-05, momentum=0.1, affine=True, track_running_stats=True)\n",
       "      )\n",
       "    )\n",
       "    (1): Bottleneck(\n",
       "      (conv1): Conv2d(256, 64, kernel_size=(1, 1), stride=(1, 1), bias=False)\n",
       "      (bn1): BatchNorm2d(64, eps=1e-05, momentum=0.1, affine=True, track_running_stats=True)\n",
       "      (conv2): Conv2d(64, 64, kernel_size=(3, 3), stride=(1, 1), padding=(1, 1), bias=False)\n",
       "      (bn2): BatchNorm2d(64, eps=1e-05, momentum=0.1, affine=True, track_running_stats=True)\n",
       "      (conv3): Conv2d(64, 256, kernel_size=(1, 1), stride=(1, 1), bias=False)\n",
       "      (bn3): BatchNorm2d(256, eps=1e-05, momentum=0.1, affine=True, track_running_stats=True)\n",
       "      (relu): ReLU(inplace=True)\n",
       "    )\n",
       "    (2): Bottleneck(\n",
       "      (conv1): Conv2d(256, 64, kernel_size=(1, 1), stride=(1, 1), bias=False)\n",
       "      (bn1): BatchNorm2d(64, eps=1e-05, momentum=0.1, affine=True, track_running_stats=True)\n",
       "      (conv2): Conv2d(64, 64, kernel_size=(3, 3), stride=(1, 1), padding=(1, 1), bias=False)\n",
       "      (bn2): BatchNorm2d(64, eps=1e-05, momentum=0.1, affine=True, track_running_stats=True)\n",
       "      (conv3): Conv2d(64, 256, kernel_size=(1, 1), stride=(1, 1), bias=False)\n",
       "      (bn3): BatchNorm2d(256, eps=1e-05, momentum=0.1, affine=True, track_running_stats=True)\n",
       "      (relu): ReLU(inplace=True)\n",
       "    )\n",
       "  )\n",
       "  (layer2): Sequential(\n",
       "    (0): Bottleneck(\n",
       "      (conv1): Conv2d(256, 128, kernel_size=(1, 1), stride=(1, 1), bias=False)\n",
       "      (bn1): BatchNorm2d(128, eps=1e-05, momentum=0.1, affine=True, track_running_stats=True)\n",
       "      (conv2): Conv2d(128, 128, kernel_size=(3, 3), stride=(2, 2), padding=(1, 1), bias=False)\n",
       "      (bn2): BatchNorm2d(128, eps=1e-05, momentum=0.1, affine=True, track_running_stats=True)\n",
       "      (conv3): Conv2d(128, 512, kernel_size=(1, 1), stride=(1, 1), bias=False)\n",
       "      (bn3): BatchNorm2d(512, eps=1e-05, momentum=0.1, affine=True, track_running_stats=True)\n",
       "      (relu): ReLU(inplace=True)\n",
       "      (downsample): Sequential(\n",
       "        (0): Conv2d(256, 512, kernel_size=(1, 1), stride=(2, 2), bias=False)\n",
       "        (1): BatchNorm2d(512, eps=1e-05, momentum=0.1, affine=True, track_running_stats=True)\n",
       "      )\n",
       "    )\n",
       "    (1): Bottleneck(\n",
       "      (conv1): Conv2d(512, 128, kernel_size=(1, 1), stride=(1, 1), bias=False)\n",
       "      (bn1): BatchNorm2d(128, eps=1e-05, momentum=0.1, affine=True, track_running_stats=True)\n",
       "      (conv2): Conv2d(128, 128, kernel_size=(3, 3), stride=(1, 1), padding=(1, 1), bias=False)\n",
       "      (bn2): BatchNorm2d(128, eps=1e-05, momentum=0.1, affine=True, track_running_stats=True)\n",
       "      (conv3): Conv2d(128, 512, kernel_size=(1, 1), stride=(1, 1), bias=False)\n",
       "      (bn3): BatchNorm2d(512, eps=1e-05, momentum=0.1, affine=True, track_running_stats=True)\n",
       "      (relu): ReLU(inplace=True)\n",
       "    )\n",
       "    (2): Bottleneck(\n",
       "      (conv1): Conv2d(512, 128, kernel_size=(1, 1), stride=(1, 1), bias=False)\n",
       "      (bn1): BatchNorm2d(128, eps=1e-05, momentum=0.1, affine=True, track_running_stats=True)\n",
       "      (conv2): Conv2d(128, 128, kernel_size=(3, 3), stride=(1, 1), padding=(1, 1), bias=False)\n",
       "      (bn2): BatchNorm2d(128, eps=1e-05, momentum=0.1, affine=True, track_running_stats=True)\n",
       "      (conv3): Conv2d(128, 512, kernel_size=(1, 1), stride=(1, 1), bias=False)\n",
       "      (bn3): BatchNorm2d(512, eps=1e-05, momentum=0.1, affine=True, track_running_stats=True)\n",
       "      (relu): ReLU(inplace=True)\n",
       "    )\n",
       "    (3): Bottleneck(\n",
       "      (conv1): Conv2d(512, 128, kernel_size=(1, 1), stride=(1, 1), bias=False)\n",
       "      (bn1): BatchNorm2d(128, eps=1e-05, momentum=0.1, affine=True, track_running_stats=True)\n",
       "      (conv2): Conv2d(128, 128, kernel_size=(3, 3), stride=(1, 1), padding=(1, 1), bias=False)\n",
       "      (bn2): BatchNorm2d(128, eps=1e-05, momentum=0.1, affine=True, track_running_stats=True)\n",
       "      (conv3): Conv2d(128, 512, kernel_size=(1, 1), stride=(1, 1), bias=False)\n",
       "      (bn3): BatchNorm2d(512, eps=1e-05, momentum=0.1, affine=True, track_running_stats=True)\n",
       "      (relu): ReLU(inplace=True)\n",
       "    )\n",
       "  )\n",
       "  (layer3): Sequential(\n",
       "    (0): Bottleneck(\n",
       "      (conv1): Conv2d(512, 256, kernel_size=(1, 1), stride=(1, 1), bias=False)\n",
       "      (bn1): BatchNorm2d(256, eps=1e-05, momentum=0.1, affine=True, track_running_stats=True)\n",
       "      (conv2): Conv2d(256, 256, kernel_size=(3, 3), stride=(2, 2), padding=(1, 1), bias=False)\n",
       "      (bn2): BatchNorm2d(256, eps=1e-05, momentum=0.1, affine=True, track_running_stats=True)\n",
       "      (conv3): Conv2d(256, 1024, kernel_size=(1, 1), stride=(1, 1), bias=False)\n",
       "      (bn3): BatchNorm2d(1024, eps=1e-05, momentum=0.1, affine=True, track_running_stats=True)\n",
       "      (relu): ReLU(inplace=True)\n",
       "      (downsample): Sequential(\n",
       "        (0): Conv2d(512, 1024, kernel_size=(1, 1), stride=(2, 2), bias=False)\n",
       "        (1): BatchNorm2d(1024, eps=1e-05, momentum=0.1, affine=True, track_running_stats=True)\n",
       "      )\n",
       "    )\n",
       "    (1): Bottleneck(\n",
       "      (conv1): Conv2d(1024, 256, kernel_size=(1, 1), stride=(1, 1), bias=False)\n",
       "      (bn1): BatchNorm2d(256, eps=1e-05, momentum=0.1, affine=True, track_running_stats=True)\n",
       "      (conv2): Conv2d(256, 256, kernel_size=(3, 3), stride=(1, 1), padding=(1, 1), bias=False)\n",
       "      (bn2): BatchNorm2d(256, eps=1e-05, momentum=0.1, affine=True, track_running_stats=True)\n",
       "      (conv3): Conv2d(256, 1024, kernel_size=(1, 1), stride=(1, 1), bias=False)\n",
       "      (bn3): BatchNorm2d(1024, eps=1e-05, momentum=0.1, affine=True, track_running_stats=True)\n",
       "      (relu): ReLU(inplace=True)\n",
       "    )\n",
       "    (2): Bottleneck(\n",
       "      (conv1): Conv2d(1024, 256, kernel_size=(1, 1), stride=(1, 1), bias=False)\n",
       "      (bn1): BatchNorm2d(256, eps=1e-05, momentum=0.1, affine=True, track_running_stats=True)\n",
       "      (conv2): Conv2d(256, 256, kernel_size=(3, 3), stride=(1, 1), padding=(1, 1), bias=False)\n",
       "      (bn2): BatchNorm2d(256, eps=1e-05, momentum=0.1, affine=True, track_running_stats=True)\n",
       "      (conv3): Conv2d(256, 1024, kernel_size=(1, 1), stride=(1, 1), bias=False)\n",
       "      (bn3): BatchNorm2d(1024, eps=1e-05, momentum=0.1, affine=True, track_running_stats=True)\n",
       "      (relu): ReLU(inplace=True)\n",
       "    )\n",
       "    (3): Bottleneck(\n",
       "      (conv1): Conv2d(1024, 256, kernel_size=(1, 1), stride=(1, 1), bias=False)\n",
       "      (bn1): BatchNorm2d(256, eps=1e-05, momentum=0.1, affine=True, track_running_stats=True)\n",
       "      (conv2): Conv2d(256, 256, kernel_size=(3, 3), stride=(1, 1), padding=(1, 1), bias=False)\n",
       "      (bn2): BatchNorm2d(256, eps=1e-05, momentum=0.1, affine=True, track_running_stats=True)\n",
       "      (conv3): Conv2d(256, 1024, kernel_size=(1, 1), stride=(1, 1), bias=False)\n",
       "      (bn3): BatchNorm2d(1024, eps=1e-05, momentum=0.1, affine=True, track_running_stats=True)\n",
       "      (relu): ReLU(inplace=True)\n",
       "    )\n",
       "    (4): Bottleneck(\n",
       "      (conv1): Conv2d(1024, 256, kernel_size=(1, 1), stride=(1, 1), bias=False)\n",
       "      (bn1): BatchNorm2d(256, eps=1e-05, momentum=0.1, affine=True, track_running_stats=True)\n",
       "      (conv2): Conv2d(256, 256, kernel_size=(3, 3), stride=(1, 1), padding=(1, 1), bias=False)\n",
       "      (bn2): BatchNorm2d(256, eps=1e-05, momentum=0.1, affine=True, track_running_stats=True)\n",
       "      (conv3): Conv2d(256, 1024, kernel_size=(1, 1), stride=(1, 1), bias=False)\n",
       "      (bn3): BatchNorm2d(1024, eps=1e-05, momentum=0.1, affine=True, track_running_stats=True)\n",
       "      (relu): ReLU(inplace=True)\n",
       "    )\n",
       "    (5): Bottleneck(\n",
       "      (conv1): Conv2d(1024, 256, kernel_size=(1, 1), stride=(1, 1), bias=False)\n",
       "      (bn1): BatchNorm2d(256, eps=1e-05, momentum=0.1, affine=True, track_running_stats=True)\n",
       "      (conv2): Conv2d(256, 256, kernel_size=(3, 3), stride=(1, 1), padding=(1, 1), bias=False)\n",
       "      (bn2): BatchNorm2d(256, eps=1e-05, momentum=0.1, affine=True, track_running_stats=True)\n",
       "      (conv3): Conv2d(256, 1024, kernel_size=(1, 1), stride=(1, 1), bias=False)\n",
       "      (bn3): BatchNorm2d(1024, eps=1e-05, momentum=0.1, affine=True, track_running_stats=True)\n",
       "      (relu): ReLU(inplace=True)\n",
       "    )\n",
       "  )\n",
       "  (layer4): Sequential(\n",
       "    (0): Bottleneck(\n",
       "      (conv1): Conv2d(1024, 512, kernel_size=(1, 1), stride=(1, 1), bias=False)\n",
       "      (bn1): BatchNorm2d(512, eps=1e-05, momentum=0.1, affine=True, track_running_stats=True)\n",
       "      (conv2): Conv2d(512, 512, kernel_size=(3, 3), stride=(2, 2), padding=(1, 1), bias=False)\n",
       "      (bn2): BatchNorm2d(512, eps=1e-05, momentum=0.1, affine=True, track_running_stats=True)\n",
       "      (conv3): Conv2d(512, 2048, kernel_size=(1, 1), stride=(1, 1), bias=False)\n",
       "      (bn3): BatchNorm2d(2048, eps=1e-05, momentum=0.1, affine=True, track_running_stats=True)\n",
       "      (relu): ReLU(inplace=True)\n",
       "      (downsample): Sequential(\n",
       "        (0): Conv2d(1024, 2048, kernel_size=(1, 1), stride=(2, 2), bias=False)\n",
       "        (1): BatchNorm2d(2048, eps=1e-05, momentum=0.1, affine=True, track_running_stats=True)\n",
       "      )\n",
       "    )\n",
       "    (1): Bottleneck(\n",
       "      (conv1): Conv2d(2048, 512, kernel_size=(1, 1), stride=(1, 1), bias=False)\n",
       "      (bn1): BatchNorm2d(512, eps=1e-05, momentum=0.1, affine=True, track_running_stats=True)\n",
       "      (conv2): Conv2d(512, 512, kernel_size=(3, 3), stride=(1, 1), padding=(1, 1), bias=False)\n",
       "      (bn2): BatchNorm2d(512, eps=1e-05, momentum=0.1, affine=True, track_running_stats=True)\n",
       "      (conv3): Conv2d(512, 2048, kernel_size=(1, 1), stride=(1, 1), bias=False)\n",
       "      (bn3): BatchNorm2d(2048, eps=1e-05, momentum=0.1, affine=True, track_running_stats=True)\n",
       "      (relu): ReLU(inplace=True)\n",
       "    )\n",
       "    (2): Bottleneck(\n",
       "      (conv1): Conv2d(2048, 512, kernel_size=(1, 1), stride=(1, 1), bias=False)\n",
       "      (bn1): BatchNorm2d(512, eps=1e-05, momentum=0.1, affine=True, track_running_stats=True)\n",
       "      (conv2): Conv2d(512, 512, kernel_size=(3, 3), stride=(1, 1), padding=(1, 1), bias=False)\n",
       "      (bn2): BatchNorm2d(512, eps=1e-05, momentum=0.1, affine=True, track_running_stats=True)\n",
       "      (conv3): Conv2d(512, 2048, kernel_size=(1, 1), stride=(1, 1), bias=False)\n",
       "      (bn3): BatchNorm2d(2048, eps=1e-05, momentum=0.1, affine=True, track_running_stats=True)\n",
       "      (relu): ReLU(inplace=True)\n",
       "    )\n",
       "  )\n",
       "  (avgpool): AdaptiveAvgPool2d(output_size=(1, 1))\n",
       "  (fc): Sequential(\n",
       "    (0): Linear(in_features=2048, out_features=2048, bias=True)\n",
       "    (1): LeakyReLU(negative_slope=0.2)\n",
       "    (2): Dropout(p=0.4, inplace=False)\n",
       "    (3): Linear(in_features=2048, out_features=2048, bias=True)\n",
       "    (4): LeakyReLU(negative_slope=0.2)\n",
       "    (5): Dropout(p=0.4, inplace=False)\n",
       "    (6): Linear(in_features=2048, out_features=3, bias=True)\n",
       "    (7): LogSoftmax()\n",
       "  )\n",
       ")"
      ]
     },
     "execution_count": 16,
     "metadata": {
      "tags": []
     },
     "output_type": "execute_result"
    }
   ],
   "source": [
    "# instantiate transfer learning model\n",
    "resnet_model = models.resnet50(pretrained=True)\n",
    "\n",
    "# set all paramters as trainable\n",
    "for param in resnet_model.parameters():\n",
    "    param.requires_grad = True\n",
    "\n",
    "# get input of fc layer\n",
    "n_inputs = resnet_model.fc.in_features\n",
    "\n",
    "# redefine fc layer / top layer/ head for our classification problem\n",
    "resnet_model.fc = nn.Sequential(nn.Linear(n_inputs, 2048),\n",
    "                                nn.LeakyReLU(negative_slope=0.2),\n",
    "                                nn.Dropout(p=0.4),\n",
    "                                nn.Linear(2048, 2048),\n",
    "                                nn.LeakyReLU(negative_slope=0.2),\n",
    "                                nn.Dropout(p=0.4),\n",
    "                                nn.Linear(2048, 3),\n",
    "                                nn.LogSoftmax(dim=1))\n",
    "\n",
    "# set all paramters of the model as trainable\n",
    "for name, child in resnet_model.named_children():\n",
    "  for name2, params in child.named_parameters():\n",
    "    params.requires_grad = True\n",
    "\n",
    "# set model to run on GPU or CPU absed on availibility\n",
    "resnet_model.to(device)\n",
    "\n",
    "# print the trasnfer learning NN model's architecture\n",
    "resnet_model"
   ]
  },
  {
   "cell_type": "markdown",
   "metadata": {
    "colab_type": "text",
    "id": "_QdrEPESsKQi"
   },
   "source": [
    "## Set Training Configuration\n",
    "\n",
    "* Set model's loss function as CrossEntropyLoss\n",
    "\n",
    "* Set SGD optimizer with 0.9 momentum and learning rate 3e-4 as the model's optimizer. According to many Deep learning experts and researchers such as [Andrej karpathy](https://github.com/karpathy) 3e-4 is a good learning rate choice.\n",
    "\n",
    "* Run the model for 10 total iterations\n",
    "\n",
    "* Create empty lists to store training losses, validation losses, training accuracies, and validation accuracies."
   ]
  },
  {
   "cell_type": "code",
   "execution_count": 0,
   "metadata": {
    "colab": {},
    "colab_type": "code",
    "id": "cokrpXp3ud8_"
   },
   "outputs": [],
   "source": [
    "# loss function\n",
    "# if GPU is available set loss function to use GPU\n",
    "if device_name==\"cuda:0:\":\n",
    "  criterion = nn.CrossEntropyLoss().cuda()\n",
    "else:\n",
    "  criterion = nn.CrossEntropyLoss()  \n",
    "\n",
    "# optimizer\n",
    "optimizer = torch.optim.SGD(resnet_model.parameters(), momentum=0.9, lr=0.0003)\n",
    "\n",
    "# number of training iterations\n",
    "epochs = 10\n",
    "\n",
    "# empty lists to store losses and accuracies\n",
    "train_losses = []\n",
    "test_losses = []\n",
    "train_correct = []\n",
    "test_correct = []"
   ]
  },
  {
   "cell_type": "markdown",
   "metadata": {
    "colab_type": "text",
    "id": "7E_rg4eJs7Xq"
   },
   "source": [
    "## Util function\n",
    "\n",
    "### Checkpoint Saver\n",
    "A function to save the model using checkpoints based on best loss achieved during every iteration compared with previous iteration's loss. We'll load the checkpoint and resume training in case Colab's runtime get's disconnected due to inactivity or any other issues."
   ]
  },
  {
   "cell_type": "code",
   "execution_count": 0,
   "metadata": {
    "colab": {},
    "colab_type": "code",
    "id": "MnUksQpFNxNK"
   },
   "outputs": [],
   "source": [
    "def save_checkpoint(state, is_best, filename='/content/drive/My Drive/bt_total_resnet_checkpoint.pth.tar'):\n",
    "    torch.save(state, filename)"
   ]
  },
  {
   "cell_type": "markdown",
   "metadata": {
    "colab_type": "text",
    "id": "Ci1Lw3UgtU13"
   },
   "source": [
    "## Train the model"
   ]
  },
  {
   "cell_type": "code",
   "execution_count": 0,
   "metadata": {
    "colab": {
     "base_uri": "https://localhost:8080/",
     "height": 765
    },
    "colab_type": "code",
    "id": "0TWAlOEau6k7",
    "outputId": "8f8990bd-4448-4eaa-a64e-25d8d1f81ed4"
   },
   "outputs": [
    {
     "name": "stdout",
     "output_type": "stream",
     "text": [
      "Epoch 1 Batch 2144\n",
      "Accuracy: 77.87 %  Loss: 0.1423  Duration: 34.85 minutes\n",
      "Validation Accuracy 87.17 Validation Loss: 0.0224\n",
      "\n",
      "Epoch 2 Batch 2144\n",
      "Accuracy: 91.30 %  Loss: 0.0766  Duration: 34.81 minutes\n",
      "Validation Accuracy 90.46 Validation Loss: 0.0123\n",
      "\n",
      "Epoch 3 Batch 2144\n",
      "Accuracy: 94.04 %  Loss: 0.0156  Duration: 34.79 minutes\n",
      "Validation Accuracy 89.45 Validation Loss: 0.0478\n",
      "\n",
      "Epoch 4 Batch 2144\n",
      "Accuracy: 95.85 %  Loss: 0.0030  Duration: 34.78 minutes\n",
      "Validation Accuracy 95.92 Validation Loss: 1.4073\n",
      "\n",
      "Epoch 5 Batch 2144\n",
      "Accuracy: 96.97 %  Loss: 0.0019  Duration: 34.78 minutes\n",
      "Validation Accuracy 97.04 Validation Loss: 0.0089\n",
      "\n",
      "Epoch 6 Batch 2144\n",
      "Accuracy: 98.55 %  Loss: 0.0354  Duration: 34.82 minutes\n",
      "Validation Accuracy 94.05 Validation Loss: 1.5841\n",
      "\n",
      "Epoch 7 Batch 2144\n",
      "Accuracy: 98.53 %  Loss: 0.0008  Duration: 34.84 minutes\n",
      "Validation Accuracy 91.89 Validation Loss: 0.4272\n",
      "\n",
      "Epoch 8 Batch 2144\n",
      "Accuracy: 99.16 %  Loss: 0.0002  Duration: 34.83 minutes\n",
      "Validation Accuracy 97.40 Validation Loss: 0.0005\n",
      "\n",
      "Epoch 9 Batch 2144\n",
      "Accuracy: 99.26 %  Loss: 0.0030  Duration: 34.76 minutes\n",
      "Validation Accuracy 97.29 Validation Loss: 0.0001\n",
      "\n",
      "Epoch 10 Batch 2144\n",
      "Accuracy: 99.38 %  Loss: 0.0009  Duration: 34.86 minutes\n",
      "Validation Accuracy 98.25 Validation Loss: 0.0000\n",
      "\n",
      "\n",
      "Training Duration 374.34 minutes\n",
      "GPU memory used : 398628864 kb\n",
      "GPU memory cached : 2344615936 kb\n"
     ]
    }
   ],
   "source": [
    "# set training start time\n",
    "start_time = time.time()\n",
    "\n",
    "# set best_prec loss value as 2 for checkpoint threshold\n",
    "best_prec1 = 2\n",
    "\n",
    "# empty batch variables\n",
    "b = None\n",
    "train_b = None\n",
    "test_b = None\n",
    "\n",
    "# start training\n",
    "for i in range(epochs):\n",
    "    # empty training correct and test correct counter as 0 during every iteration\n",
    "    trn_corr = 0\n",
    "    tst_corr = 0\n",
    "    \n",
    "    # set epoch's starting time\n",
    "    e_start = time.time()\n",
    "    \n",
    "    # train in batches\n",
    "    for b, (y, X) in enumerate(train_gen):\n",
    "        # set label as cuda if device is cuda\n",
    "        if device_name==\"cuda:0:\":\n",
    "          y = y.cuda()\n",
    "\n",
    "        # for images present in list of augmented images\n",
    "        for images in X:\n",
    "          # set image as cuda if device is cuda\n",
    "          if device_name==\"cuda:0:\":\n",
    "            images = images.cuda()\n",
    "\n",
    "          # forward pass image sample\n",
    "          y_pred = resnet_model(images)\n",
    "          # calculate loss\n",
    "          loss = criterion(y_pred, y)\n",
    "  \n",
    "          # get argmax of predicted tensor, which is our label\n",
    "          predicted = torch.max(y_pred.data, 1)[1]\n",
    "          # if predicted label is correct as true label, calculate the sum for samples\n",
    "          batch_corr = (predicted == y).sum()\n",
    "          # increment train correct with correcly predicted labels per batch\n",
    "          trn_corr += batch_corr\n",
    "          \n",
    "          # set optimizer gradients to zero\n",
    "          optimizer.zero_grad()\n",
    "          # back propagate with loss\n",
    "          loss.backward()\n",
    "          # perform optimizer step\n",
    "          optimizer.step()\n",
    "\n",
    "    # set epoch's end time\n",
    "    e_end = time.time()\n",
    "    # print training metrics\n",
    "    print(f'Epoch {(i+1)} Batch {(b+1)*4}\\nAccuracy: {trn_corr.item()*100/(4*8*b):2.2f} %  Loss: {loss.item():2.4f}  Duration: {((e_end-e_start)/60):.2f} minutes') # 4 images per batch * 8 augmentations per image * batch length\n",
    "\n",
    "    # some metrics storage for visualization\n",
    "    train_b = b\n",
    "    train_losses.append(loss)\n",
    "    train_correct.append(trn_corr)\n",
    "\n",
    "    # validate using validation generator\n",
    "    # do not perform any gradient updates while validation\n",
    "    with torch.no_grad():\n",
    "        for b, (y, X) in enumerate(valid_gen):\n",
    "            # set label as cuda if device is cuda\n",
    "            if device_name==\"cuda:0:\":            \n",
    "              y = y.cuda()\n",
    "\n",
    "            # for images present in list of augmented images\n",
    "            for images in X:\n",
    "                # set image as cuda if device is cuda\n",
    "                if device_name==\"cuda:0:\":\n",
    "                  images = images.cuda()\n",
    "                \n",
    "                # forward pass image\n",
    "                y_val = resnet_model(images)\n",
    "\n",
    "                # get argmax of predicted tensor, which is our label\n",
    "                predicted = torch.max(y_val.data, 1)[1] \n",
    "\n",
    "                # increment test correct with correcly predicted labels per batch\n",
    "                tst_corr += (predicted == y).sum()\n",
    "\n",
    "    # get loss of validation set\n",
    "    loss = criterion(y_val, y)\n",
    "    # print validation metrics\n",
    "    print(f'Validation Accuracy {tst_corr.item()*100/(4*8*b):2.2f} Validation Loss: {loss.item():2.4f}\\n')\n",
    "\n",
    "    # if current validation loss is less than previous iteration's validatin loss create and save a checkpoint\n",
    "    is_best = loss < best_prec1\n",
    "    best_prec1 = min(loss, best_prec1)\n",
    "    save_checkpoint({\n",
    "            'epoch': i + 1,\n",
    "            'state_dict': resnet_model.state_dict(),\n",
    "            'best_prec1': best_prec1,\n",
    "        }, is_best, filename=os.path.join('/content/drive/My Drive/', 'bt_total_resnet_checkpoint_{}.pth.tar'.format(i)))\n",
    "\n",
    "    # some metrics storage for visualization\n",
    "    test_b  = b\n",
    "    test_losses.append(loss)\n",
    "    test_correct.append(tst_corr)\n",
    "\n",
    "# set total training's end time\n",
    "end_time = time.time() - start_time    \n",
    "\n",
    "# print training summary\n",
    "print(\"\\nTraining Duration {:.2f} minutes\".format(end_time/60))\n",
    "print(\"GPU memory used : {} kb\".format(torch.cuda.memory_allocated()))\n",
    "print(\"GPU memory cached : {} kb\".format(torch.cuda.memory_cached()))"
   ]
  },
  {
   "cell_type": "markdown",
   "metadata": {
    "colab_type": "text",
    "id": "9Rzl2f2kteb8"
   },
   "source": [
    "## Save the model\n",
    "\n",
    "Save the model after the training is completed"
   ]
  },
  {
   "cell_type": "code",
   "execution_count": 0,
   "metadata": {
    "colab": {},
    "colab_type": "code",
    "id": "K4yzcJMmwPnY"
   },
   "outputs": [],
   "source": [
    "torch.save(resnet_model.state_dict(), '/content/drive/My Drive/bt_total_resnet_torch.pt')"
   ]
  },
  {
   "cell_type": "markdown",
   "metadata": {
    "colab_type": "text",
    "id": "Q-2R8Yputlvh"
   },
   "source": [
    "## Evaluation"
   ]
  },
  {
   "cell_type": "markdown",
   "metadata": {
    "colab_type": "text",
    "id": "hPEBr7E1tobU"
   },
   "source": [
    "Print the validation accuracy of the model calculated using validation set during training "
   ]
  },
  {
   "cell_type": "code",
   "execution_count": 0,
   "metadata": {
    "colab": {
     "base_uri": "https://localhost:8080/",
     "height": 34
    },
    "colab_type": "code",
    "id": "4w0EuNLQvmNV",
    "outputId": "dd33ef79-5c90-4900-8e62-f8b8fbe2c972"
   },
   "outputs": [
    {
     "name": "stdout",
     "output_type": "stream",
     "text": [
      "Validation accuracy: 98.25%\n"
     ]
    }
   ],
   "source": [
    "print(f'Validation accuracy: {test_correct[-1].item()*100/(test_b*8*4):.2f}%')"
   ]
  },
  {
   "cell_type": "markdown",
   "metadata": {
    "colab_type": "text",
    "id": "EnauSi8Dt04I"
   },
   "source": [
    "Plot the loss graph"
   ]
  },
  {
   "cell_type": "code",
   "execution_count": 0,
   "metadata": {
    "colab": {
     "base_uri": "https://localhost:8080/",
     "height": 295
    },
    "colab_type": "code",
    "id": "TttSopdFvtr0",
    "outputId": "bf6a0523-a7d4-4549-c1b7-3e2eda61a7c9"
   },
   "outputs": [
    {
     "data": {
      "image/png": "[encoded data removed]",
      "text/plain": [
       "<Figure size 432x288 with 1 Axes>"
      ]
     },
     "metadata": {
      "tags": []
     },
     "output_type": "display_data"
    }
   ],
   "source": [
    "plt.plot(train_losses, label='Training loss')\n",
    "plt.plot(test_losses, label='Validation loss')\n",
    "plt.title('Loss Metrics')\n",
    "plt.ylabel('Loss')\n",
    "plt.xlabel('Epochs')\n",
    "plt.legend()\n",
    "plt.show()"
   ]
  },
  {
   "cell_type": "markdown",
   "metadata": {
    "colab_type": "text",
    "id": "8L-_dup0uCl5"
   },
   "source": [
    "Plot the accuracy graph\n",
    "\n",
    "* Training set - Total length of training samples divided by 100 for every trained sample\n",
    "\n",
    "  * `int((2144 * 8)/100) = int(171.52) = 171`\n",
    "\n",
    "* Testing set - Total length of testing samples divided by 100 for every testing sample\n",
    "\n",
    "  * `int((460 * 8)/100) = int(36.8) = 36`\n",
    "\n",
    "\n"
   ]
  },
  {
   "cell_type": "code",
   "execution_count": 0,
   "metadata": {
    "colab": {
     "base_uri": "https://localhost:8080/",
     "height": 295
    },
    "colab_type": "code",
    "id": "YKzECNFZvx9u",
    "outputId": "edf19e11-39c9-4f57-9fdc-d4f767fbb2da"
   },
   "outputs": [
    {
     "data": {
      "image/png": "[encoded data removed]",
      "text/plain": [
       "<Figure size 432x288 with 1 Axes>"
      ]
     },
     "metadata": {
      "tags": []
     },
     "output_type": "display_data"
    }
   ],
   "source": [
    "plt.plot([t/171 for t in train_correct], label='Training accuracy')\n",
    "plt.plot([t/36 for t in test_correct], label='Validation accuracy')\n",
    "plt.title('Accuracy Metrics')\n",
    "plt.ylabel('Accuracy')\n",
    "plt.xlabel('Epochs')\n",
    "plt.legend()\n",
    "plt.show()"
   ]
  },
  {
   "cell_type": "markdown",
   "metadata": {
    "colab_type": "text",
    "id": "nEKbGLWsIt6P"
   },
   "source": [
    "Empty out training set and validation set to free up RAM / Cache"
   ]
  },
  {
   "cell_type": "code",
   "execution_count": 0,
   "metadata": {
    "colab": {},
    "colab_type": "code",
    "id": "SsVJuIwych21"
   },
   "outputs": [],
   "source": [
    "# resnet_model.load_state_dict(torch.load('/content/drive/My Drive/bt_resnet_torch.pt'))\n",
    "train_gen = None\n",
    "valid_gen = None\n",
    "train_set = None\n",
    "valid_set = None"
   ]
  },
  {
   "cell_type": "markdown",
   "metadata": {
    "colab_type": "text",
    "id": "LfVhP2dmvdoi"
   },
   "source": [
    "Set model to evaluation mode\n",
    "\n",
    "Calculate loss, correctly classified samples, predicted values, labels and store them in a list using test dataloader"
   ]
  },
  {
   "cell_type": "code",
   "execution_count": 0,
   "metadata": {
    "colab": {
     "base_uri": "https://localhost:8080/",
     "height": 34
    },
    "colab_type": "code",
    "id": "WZJ7w9ztv1pb",
    "outputId": "b7428953-2bdc-41c5-c24c-e97e76d657d7"
   },
   "outputs": [
    {
     "name": "stdout",
     "output_type": "stream",
     "text": [
      "Test Loss: 0.0433\n"
     ]
    }
   ],
   "source": [
    "# set model to evaluation mode\n",
    "resnet_model.eval()\n",
    "\n",
    "# perform no gradient updates\n",
    "with torch.no_grad():\n",
    "    # soem metrics storage for visualization and analysis\n",
    "    correct = 0\n",
    "    test_loss = []\n",
    "    test_corr = []\n",
    "    labels = []\n",
    "    pred = []\n",
    "    # perform test set evaluation batch wise\n",
    "    for (y, X) in test_gen:\n",
    "        # set label to use CUDA if available\n",
    "        if device_name==\"cuda:0:\":\n",
    "          y = y.cuda()\n",
    "\n",
    "        # for images present in list of augmented images  \n",
    "        for images in X:\n",
    "        # set image as cuda if device is cuda\n",
    "          if device_name==\"cuda:0:\":\n",
    "            images = images.cuda()\n",
    "          \n",
    "          # append original labels\n",
    "          labels.append(y)\n",
    "\n",
    "          # perform forward pass\n",
    "          y_val = resnet_model(images)\n",
    "\n",
    "          # get argmax of predicted values, which is our label\n",
    "          predicted = torch.max(y_val,1)[1]\n",
    "          # append predicted label\n",
    "          pred.append(predicted)\n",
    "\n",
    "          # calculate loss\n",
    "          loss = criterion(y_val, y)\n",
    "\n",
    "          # increment correct with correcly predicted labels per batch\n",
    "          correct += (predicted == y).sum()\n",
    "\n",
    "          # append correct samples labels and losses\n",
    "          test_corr.append(correct)\n",
    "          test_loss.append(loss)\n",
    "          # print(f\"True: {y.cpu().numpy()}  Pred: {predicted.cpu().numpy()}\")\n",
    "          \n",
    "print(f\"Test Loss: {test_loss[-1].item():.4f}\")"
   ]
  },
  {
   "cell_type": "markdown",
   "metadata": {
    "colab_type": "text",
    "id": "AqDm19ZSvyY2"
   },
   "source": [
    "Print the test accuracy\n"
   ]
  },
  {
   "cell_type": "code",
   "execution_count": 0,
   "metadata": {
    "colab": {
     "base_uri": "https://localhost:8080/",
     "height": 34
    },
    "colab_type": "code",
    "id": "HJm2yjzHbLlP",
    "outputId": "cd336bc4-6ee2-4069-fcd5-e842323e6bc7"
   },
   "outputs": [
    {
     "name": "stdout",
     "output_type": "stream",
     "text": [
      "Test accuracy: 98.51%\n"
     ]
    }
   ],
   "source": [
    "print(f'Test accuracy: {test_corr[-1].item()*100/(460*8):.2f}%')"
   ]
  },
  {
   "cell_type": "markdown",
   "metadata": {
    "colab_type": "text",
    "id": "T6fxSb68v0uf"
   },
   "source": [
    "Convert list of tensors to tensors"
   ]
  },
  {
   "cell_type": "code",
   "execution_count": 0,
   "metadata": {
    "colab": {},
    "colab_type": "code",
    "id": "jDRv0IhThKhP"
   },
   "outputs": [],
   "source": [
    "labels = torch.stack(labels)\n",
    "pred = torch.stack(pred)"
   ]
  },
  {
   "cell_type": "markdown",
   "metadata": {
    "colab_type": "text",
    "id": "Ps2QnU4ov4Sr"
   },
   "source": [
    "Define ground-truth labels as a list"
   ]
  },
  {
   "cell_type": "code",
   "execution_count": 0,
   "metadata": {
    "colab": {},
    "colab_type": "code",
    "id": "7BsASCMlL2_z"
   },
   "outputs": [],
   "source": [
    "LABELS = ['Meningioma', 'Glioma', 'Pitutary']"
   ]
  },
  {
   "cell_type": "markdown",
   "metadata": {
    "colab_type": "text",
    "id": "wubHPKqov61w"
   },
   "source": [
    "Plot the confusion matrix"
   ]
  },
  {
   "cell_type": "code",
   "execution_count": 0,
   "metadata": {
    "colab": {
     "base_uri": "https://localhost:8080/",
     "height": 388
    },
    "colab_type": "code",
    "id": "3cfoG8Q0gMKZ",
    "outputId": "c10e60cb-edad-44c2-b8d4-24f413df44e8"
   },
   "outputs": [
    {
     "data": {
      "image/png": "[encoded data removed]",
      "text/plain": [
       "<Figure size 648x432 with 2 Axes>"
      ]
     },
     "metadata": {
      "tags": []
     },
     "output_type": "display_data"
    }
   ],
   "source": [
    "arr = confusion_matrix(pred.view(-1).cpu(), labels.view(-1).cpu())\n",
    "df_cm = pd.DataFrame(arr, LABELS, LABELS)\n",
    "plt.figure(figsize = (9,6))\n",
    "sns.heatmap(df_cm, annot=True, fmt=\"d\", cmap='viridis')\n",
    "plt.xlabel(\"Prediction\")\n",
    "plt.ylabel(\"Target\")\n",
    "plt.show()"
   ]
  },
  {
   "cell_type": "markdown",
   "metadata": {
    "colab_type": "text",
    "id": "kHhrPo6Tv9Xc"
   },
   "source": [
    "Print the classification report"
   ]
  },
  {
   "cell_type": "code",
   "execution_count": 0,
   "metadata": {
    "colab": {
     "base_uri": "https://localhost:8080/",
     "height": 221
    },
    "colab_type": "code",
    "id": "MNWrpWVXL_pQ",
    "outputId": "4a5559d2-fdf9-46b5-f66a-74a947a71e50"
   },
   "outputs": [
    {
     "name": "stdout",
     "output_type": "stream",
     "text": [
      "Clasification Report\n",
      "\n",
      "              precision    recall  f1-score   support\n",
      "\n",
      "           0       0.96      0.99      0.97       884\n",
      "           1       0.99      0.99      0.99      1704\n",
      "           2       1.00      0.97      0.99      1092\n",
      "\n",
      "    accuracy                           0.99      3680\n",
      "   macro avg       0.98      0.98      0.98      3680\n",
      "weighted avg       0.99      0.99      0.99      3680\n",
      "\n"
     ]
    }
   ],
   "source": [
    "print(f\"Clasification Report\\n\\n{classification_report(pred.view(-1).cpu(), labels.view(-1).cpu())}\")"
   ]
  },
  {
   "cell_type": "markdown",
   "metadata": {
    "colab_type": "text",
    "id": "N5xUvujSwBQc"
   },
   "source": [
    "Print the Jaccard Similarity score / Index (Accuracy)"
   ]
  },
  {
   "cell_type": "code",
   "execution_count": 0,
   "metadata": {
    "colab": {
     "base_uri": "https://localhost:8080/",
     "height": 122
    },
    "colab_type": "code",
    "id": "WXiYK3JxMC3F",
    "outputId": "23a10465-8d10-421a-ef70-c0feef28bae3"
   },
   "outputs": [
    {
     "name": "stdout",
     "output_type": "stream",
     "text": [
      "Jaccard Index\n",
      "\n",
      "0.99\n"
     ]
    },
    {
     "name": "stderr",
     "output_type": "stream",
     "text": [
      "/usr/local/lib/python3.6/dist-packages/sklearn/metrics/_classification.py:664: FutureWarning: jaccard_similarity_score has been deprecated and replaced with jaccard_score. It will be removed in version 0.23. This implementation has surprising behavior for binary and multiclass classification tasks.\n",
      "  FutureWarning)\n"
     ]
    }
   ],
   "source": [
    "print(f\"Jaccard Index\\n\\n{round(jaccard_similarity_score(pred.view(-1).cpu(), labels.view(-1).cpu()), 2)}\")"
   ]
  },
  {
   "cell_type": "markdown",
   "metadata": {
    "colab_type": "text",
    "id": "Qw0YkS8kbs8q"
   },
   "source": [
    "We've got around 99% test accuracy which is really good. "
   ]
  },
  {
   "cell_type": "markdown",
   "metadata": {
    "colab_type": "text",
    "id": "HOzZqnNq2EyF"
   },
   "source": [
    "## Future Scopes\n",
    "\n",
    "* The model will be deployed using python flask server as a website, so anyone could an upload MRI image of brain and find out what kinda tumor is present (if any).\n",
    "\n",
    "* Tumor detection will be added in future to locate where the tumor is present in the given MRI image of the brain.\n",
    "\n",
    "* Will add more sophisticated regularization techniques to prevent slight overfitting and increase accuracy upto 100 %."
   ]
  }
 ],
 "metadata": {
  "accelerator": "GPU",
  "colab": {
   "collapsed_sections": [],
   "name": "torch_brain_tumor_classifier.ipynb",
   "provenance": []
  },
  "kernelspec": {
   "display_name": "Python 3",
   "language": "python",
   "name": "python3"
  },
  "language_info": {
   "codemirror_mode": {
    "name": "ipython",
    "version": 3
   },
   "file_extension": ".py",
   "mimetype": "text/x-python",
   "name": "python",
   "nbconvert_exporter": "python",
   "pygments_lexer": "ipython3",
   "version": "3.7.4"
  }
 },
 "nbformat": 4,
 "nbformat_minor": 1
}
