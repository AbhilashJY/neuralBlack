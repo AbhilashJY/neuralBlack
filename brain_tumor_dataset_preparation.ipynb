{
 "cells": [
  {
   "cell_type": "markdown",
   "metadata": {
    "colab_type": "text",
    "id": "GXh66ZKmLUA1"
   },
   "source": [
    "# Brain Tumor Detection - Dataset Preparation\n",
    "\n",
    "## Include necessary libraries\n",
    "\n",
    "We'll need the following libraries to prepare our dataset."
   ]
  },
  {
   "cell_type": "code",
   "execution_count": 1,
   "metadata": {
    "colab": {},
    "colab_type": "code",
    "id": "A3XcXuKJDjT0"
   },
   "outputs": [
    {
     "ename": "ModuleNotFoundError",
     "evalue": "No module named 'google.colab'",
     "output_type": "error",
     "traceback": [
      "\u001b[1;31m---------------------------------------------------------------------------\u001b[0m",
      "\u001b[1;31mModuleNotFoundError\u001b[0m                       Traceback (most recent call last)",
      "Cell \u001b[1;32mIn[1], line 10\u001b[0m\n\u001b[0;32m      8\u001b[0m \u001b[38;5;28;01mimport\u001b[39;00m \u001b[38;5;21;01mh5py\u001b[39;00m\n\u001b[0;32m      9\u001b[0m \u001b[38;5;28;01mimport\u001b[39;00m \u001b[38;5;21;01mcv2\u001b[39;00m\n\u001b[1;32m---> 10\u001b[0m \u001b[38;5;28;01mfrom\u001b[39;00m \u001b[38;5;21;01mgoogle\u001b[39;00m\u001b[38;5;21;01m.\u001b[39;00m\u001b[38;5;21;01mcolab\u001b[39;00m\u001b[38;5;21;01m.\u001b[39;00m\u001b[38;5;21;01mpatches\u001b[39;00m \u001b[38;5;28;01mimport\u001b[39;00m cv2_imshow\n\u001b[0;32m     11\u001b[0m get_ipython()\u001b[38;5;241m.\u001b[39mrun_line_magic(\u001b[38;5;124m'\u001b[39m\u001b[38;5;124mmatplotlib\u001b[39m\u001b[38;5;124m'\u001b[39m, \u001b[38;5;124m'\u001b[39m\u001b[38;5;124minline\u001b[39m\u001b[38;5;124m'\u001b[39m)\n",
      "\u001b[1;31mModuleNotFoundError\u001b[0m: No module named 'google.colab'"
     ]
    }
   ],
   "source": [
    "import os\n",
    "import PIL\n",
    "import zipfile\n",
    "import numpy as np\n",
    "import pandas as pd\n",
    "import matplotlib.pyplot as plt\n",
    "import pickle\n",
    "import h5py\n",
    "import cv2\n",
    "from google.colab.patches import cv2_imshow\n",
    "%matplotlib inline"
   ]
  },
  {
   "cell_type": "code",
   "execution_count": 3,
   "metadata": {},
   "outputs": [
    {
     "name": "stdout",
     "output_type": "stream",
     "text": [
      "Collecting opencv-python\n",
      "  Downloading opencv_python-4.9.0.80-cp37-abi3-win_amd64.whl (38.6 MB)\n",
      "     ---------------------------------------- 38.6/38.6 MB 3.8 MB/s eta 0:00:00\n",
      "Requirement already satisfied: numpy>=1.17.3 in d:\\new folder (3)\\lib\\site-packages (from opencv-python) (1.23.5)\n",
      "Installing collected packages: opencv-python\n",
      "Successfully installed opencv-python-4.9.0.80\n",
      "Note: you may need to restart the kernel to use updated packages.\n"
     ]
    }
   ],
   "source": [
    "pip install opencv-python\n"
   ]
  },
  {
   "cell_type": "markdown",
   "metadata": {
    "colab_type": "text",
    "id": "YLifrnvcc7OG"
   },
   "source": [
    "Import Google Drive, where we'll be storing our dataset so we can use them later. (Persistent preparation of Dataset)."
   ]
  },
  {
   "cell_type": "code",
   "execution_count": null,
   "metadata": {
    "colab": {
     "base_uri": "https://localhost:8080/",
     "height": 122
    },
    "colab_type": "code",
    "id": "jH6JT7YRDr-d",
    "outputId": "03762fcf-7912-4311-dcd6-7784f229f81d"
   },
   "outputs": [],
   "source": [
    "from google.colab import drive\n",
    "drive.mount('/content/drive')"
   ]
  },
  {
   "cell_type": "markdown",
   "metadata": {
    "colab_type": "text",
    "id": "CjbuxQHPLk4e"
   },
   "source": [
    "## Extract the Dataset"
   ]
  },
  {
   "cell_type": "markdown",
   "metadata": {
    "colab_type": "text",
    "id": "_oS26YfYdLqI"
   },
   "source": [
    "Dataset taken from [this link](https://figshare.com/articles/brain_tumor_dataset/1512427), which consists of brain tumor images belonging to 3 classes of tumor along with other details present in .mat format.\n",
    "\n",
    "Create a folder in Google Drive under Colab Notebooks folder named dataset, where we'll be extracting our main zip file."
   ]
  },
  {
   "cell_type": "code",
   "execution_count": null,
   "metadata": {
    "colab": {},
    "colab_type": "code",
    "id": "raq86BibDuAp"
   },
   "outputs": [],
   "source": [
    "if not os.path.exists('/content/drive/My Drive/Colab Notebooks/dataset'):\n",
    "  os.mkdir('/content/drive/My Drive/Colab Notebooks/dataset')"
   ]
  },
  {
   "cell_type": "markdown",
   "metadata": {
    "colab_type": "text",
    "id": "c18E9qkwdUos"
   },
   "source": [
    "Extract the dataset .zip file"
   ]
  },
  {
   "cell_type": "code",
   "execution_count": 2,
   "metadata": {
    "colab": {},
    "colab_type": "code",
    "id": "TyWcKMdTFY9L"
   },
   "outputs": [
    {
     "ename": "FileNotFoundError",
     "evalue": "[Errno 2] No such file or directory: '/content/drive/My Drive/1512427.zip'",
     "output_type": "error",
     "traceback": [
      "\u001b[1;31m---------------------------------------------------------------------------\u001b[0m",
      "\u001b[1;31mFileNotFoundError\u001b[0m                         Traceback (most recent call last)",
      "Cell \u001b[1;32mIn[2], line 1\u001b[0m\n\u001b[1;32m----> 1\u001b[0m \u001b[38;5;28;01mwith\u001b[39;00m \u001b[43mzipfile\u001b[49m\u001b[38;5;241;43m.\u001b[39;49m\u001b[43mZipFile\u001b[49m\u001b[43m(\u001b[49m\u001b[38;5;124;43m'\u001b[39;49m\u001b[38;5;124;43m/content/drive/My Drive/1512427.zip\u001b[39;49m\u001b[38;5;124;43m'\u001b[39;49m\u001b[43m)\u001b[49m \u001b[38;5;28;01mas\u001b[39;00m zf:\n\u001b[0;32m      2\u001b[0m   zip_dir \u001b[38;5;241m=\u001b[39m zf\u001b[38;5;241m.\u001b[39mnamelist()[\u001b[38;5;241m0\u001b[39m]\n\u001b[0;32m      3\u001b[0m   zf\u001b[38;5;241m.\u001b[39mextractall(\u001b[38;5;124m'\u001b[39m\u001b[38;5;124m/content/drive/My Drive/Colab Notebooks/dataset\u001b[39m\u001b[38;5;124m'\u001b[39m)\n",
      "File \u001b[1;32mD:\\New folder (3)\\lib\\zipfile.py:1249\u001b[0m, in \u001b[0;36mZipFile.__init__\u001b[1;34m(self, file, mode, compression, allowZip64, compresslevel, strict_timestamps)\u001b[0m\n\u001b[0;32m   1247\u001b[0m \u001b[38;5;28;01mwhile\u001b[39;00m \u001b[38;5;28;01mTrue\u001b[39;00m:\n\u001b[0;32m   1248\u001b[0m     \u001b[38;5;28;01mtry\u001b[39;00m:\n\u001b[1;32m-> 1249\u001b[0m         \u001b[38;5;28mself\u001b[39m\u001b[38;5;241m.\u001b[39mfp \u001b[38;5;241m=\u001b[39m \u001b[43mio\u001b[49m\u001b[38;5;241;43m.\u001b[39;49m\u001b[43mopen\u001b[49m\u001b[43m(\u001b[49m\u001b[43mfile\u001b[49m\u001b[43m,\u001b[49m\u001b[43m \u001b[49m\u001b[43mfilemode\u001b[49m\u001b[43m)\u001b[49m\n\u001b[0;32m   1250\u001b[0m     \u001b[38;5;28;01mexcept\u001b[39;00m \u001b[38;5;167;01mOSError\u001b[39;00m:\n\u001b[0;32m   1251\u001b[0m         \u001b[38;5;28;01mif\u001b[39;00m filemode \u001b[38;5;129;01min\u001b[39;00m modeDict:\n",
      "\u001b[1;31mFileNotFoundError\u001b[0m: [Errno 2] No such file or directory: '/content/drive/My Drive/1512427.zip'"
     ]
    }
   ],
   "source": [
    "with zipfile.ZipFile('/content/drive/My Drive/1512427.zip') as zf:\n",
    "  zip_dir = zf.namelist()[0]\n",
    "  zf.extractall('/content/drive/My Drive/Colab Notebooks/dataset')"
   ]
  },
  {
   "cell_type": "markdown",
   "metadata": {
    "colab_type": "text",
    "id": "2hNITFpzdZnJ"
   },
   "source": [
    "List the extracted files"
   ]
  },
  {
   "cell_type": "code",
   "execution_count": null,
   "metadata": {
    "colab": {
     "base_uri": "https://localhost:8080/",
     "height": 68
    },
    "colab_type": "code",
    "id": "39Id1fqCGVGI",
    "outputId": "cce6fd82-ccf1-43e9-bf46-f06243a3512a"
   },
   "outputs": [],
   "source": [
    "!ls '/content/drive/My Drive/Colab Notebooks/dataset/'"
   ]
  },
  {
   "cell_type": "markdown",
   "metadata": {
    "colab_type": "text",
    "id": "OdP3WEIGdcAl"
   },
   "source": [
    "Let's go through the README file for the information about the dataset"
   ]
  },
  {
   "cell_type": "code",
   "execution_count": null,
   "metadata": {
    "colab": {
     "base_uri": "https://localhost:8080/",
     "height": 595
    },
    "colab_type": "code",
    "id": "JosjvwpBG8u2",
    "outputId": "bcf5a0ff-0a3e-484b-9e17-f0bfd606ed41"
   },
   "outputs": [],
   "source": [
    "!cat '/content/drive/My Drive/Colab Notebooks/dataset/README.txt'"
   ]
  },
  {
   "cell_type": "markdown",
   "metadata": {
    "colab_type": "text",
    "id": "7i2xmtdzdhsZ"
   },
   "source": [
    "Extract all the 4 zip files of brain tumor, consisting .mat files"
   ]
  },
  {
   "cell_type": "code",
   "execution_count": null,
   "metadata": {
    "colab": {},
    "colab_type": "code",
    "id": "9zFst3tAGee7"
   },
   "outputs": [],
   "source": [
    "with zipfile.ZipFile('/content/drive/My Drive/Colab Notebooks/dataset/brainTumorDataPublic_1-766.zip') as zf:\n",
    "  os.mkdir('/content/drive/My Drive/Colab Notebooks/dataset/bt_set1')\n",
    "  zip_dir = zf.namelist()[0]\n",
    "  zf.extractall('/content/drive/My Drive/Colab Notebooks/dataset/bt_set1')"
   ]
  },
  {
   "cell_type": "code",
   "execution_count": null,
   "metadata": {
    "colab": {},
    "colab_type": "code",
    "id": "MTHUf8u9HW_p"
   },
   "outputs": [],
   "source": [
    "with zipfile.ZipFile('/content/drive/My Drive/Colab Notebooks/dataset/brainTumorDataPublic_767-1532.zip') as zf:\n",
    "  os.mkdir('/content/drive/My Drive/Colab Notebooks/dataset/bt_set2')\n",
    "  zip_dir = zf.namelist()[0]\n",
    "  zf.extractall('/content/drive/My Drive/Colab Notebooks/dataset/bt_set2')"
   ]
  },
  {
   "cell_type": "code",
   "execution_count": null,
   "metadata": {
    "colab": {},
    "colab_type": "code",
    "id": "wRrlwqZDHkHk"
   },
   "outputs": [],
   "source": [
    "with zipfile.ZipFile('/content/drive/My Drive/Colab Notebooks/dataset/brainTumorDataPublic_1533-2298.zip') as zf:\n",
    "  os.mkdir('/content/drive/My Drive/Colab Notebooks/dataset/bt_set3')\n",
    "  zip_dir = zf.namelist()[0]\n",
    "  zf.extractall('/content/drive/My Drive/Colab Notebooks/dataset/bt_set3')"
   ]
  },
  {
   "cell_type": "code",
   "execution_count": null,
   "metadata": {
    "colab": {},
    "colab_type": "code",
    "id": "NZ-1TF46IEQM"
   },
   "outputs": [],
   "source": [
    "with zipfile.ZipFile('/content/drive/My Drive/Colab Notebooks/dataset/brainTumorDataPublic_2299-3064.zip') as zf:\n",
    "  os.mkdir('/content/drive/My Drive/Colab Notebooks/dataset/bt_set4')\n",
    "  zip_dir = zf.namelist()[0]\n",
    "  zf.extractall('/content/drive/My Drive/Colab Notebooks/dataset/bt_set4')"
   ]
  },
  {
   "cell_type": "markdown",
   "metadata": {
    "colab_type": "text",
    "id": "QvrMSXPWdrRD"
   },
   "source": [
    "Move the .mat files to a new folder named imageData"
   ]
  },
  {
   "cell_type": "code",
   "execution_count": null,
   "metadata": {
    "colab": {},
    "colab_type": "code",
    "id": "DeaEY6MgITdz"
   },
   "outputs": [],
   "source": [
    "os.mkdir('/content/drive/My Drive/Colab Notebooks/dataset/imageData')"
   ]
  },
  {
   "cell_type": "code",
   "execution_count": null,
   "metadata": {
    "colab": {},
    "colab_type": "code",
    "id": "rIkcEF5CI5AV"
   },
   "outputs": [],
   "source": [
    "!mv /content/drive/'My Drive'/'Colab Notebooks'/dataset/bt_set1/*.mat '/content/drive/My Drive/Colab Notebooks/dataset/imageData/'\n",
    "!mv /content/drive/'My Drive'/'Colab Notebooks'/dataset/bt_set2/*.mat '/content/drive/My Drive/Colab Notebooks/dataset/imageData/'\n",
    "!mv /content/drive/'My Drive'/'Colab Notebooks'/dataset/bt_set3/*.mat '/content/drive/My Drive/Colab Notebooks/dataset/imageData/'\n",
    "!mv /content/drive/'My Drive'/'Colab Notebooks'/dataset/bt_set4/*.mat '/content/drive/My Drive/Colab Notebooks/dataset/imageData/'"
   ]
  },
  {
   "cell_type": "markdown",
   "metadata": {
    "colab_type": "text",
    "id": "Ih-0xfeoagQ_"
   },
   "source": [
    "## Prepare the Dataset"
   ]
  },
  {
   "cell_type": "markdown",
   "metadata": {
    "colab_type": "text",
    "id": "J0860tP8dz6h"
   },
   "source": [
    "Let's look at the things that we have in a single .mat file. Display the images & contents present inside it."
   ]
  },
  {
   "cell_type": "code",
   "execution_count": null,
   "metadata": {
    "colab": {},
    "colab_type": "code",
    "id": "mzE6qQ8RPCPC"
   },
   "outputs": [],
   "source": [
    "arrays = {}\n",
    "img = None"
   ]
  },
  {
   "cell_type": "code",
   "execution_count": null,
   "metadata": {
    "colab": {
     "base_uri": "https://localhost:8080/",
     "height": 785
    },
    "colab_type": "code",
    "id": "jjebDTJlMF_x",
    "outputId": "5ebc712f-9bc8-452f-eda4-9a7acd22b5e3"
   },
   "outputs": [],
   "source": [
    "with h5py.File('/content/drive/My Drive/Colab Notebooks/dataset/imageData/1.mat', 'r') as f:\n",
    "    for key in f.keys():\n",
    "      print(key)\n",
    "    for item in f.items():\n",
    "      print(item)\n",
    "    for key, val in f['cjdata'].items():\n",
    "      print(key, val)\n",
    "    img = f['cjdata']['image']\n",
    "    label = f['cjdata']['label'][0][0]\n",
    "    tumorBorder = f['cjdata']['tumorBorder'][0]\n",
    "    mask = f['cjdata']['tumorMask']\n",
    "    fig = plt.figure(2)\n",
    "    img = np.array(img, dtype=np.float32)\n",
    "    img = img/127.5 - 1\n",
    "    mask = np.array(mask, dtype=np.float32)\n",
    "    mask = mask/127.5 - 1\n",
    "    plt.axis('off')\n",
    "    plt.imshow(img, cmap='gray')\n",
    "    print(\"Image shape: \", img.shape)\n",
    "    print(\"Label\", label)\n",
    "    print(\"Coords: \", tumorBorder)\n",
    "    print(\"Mask shape: \", mask.shape)\n",
    "    fig = plt.figure(3)\n",
    "    plt.axis('off')\n",
    "    plt.imshow(mask, cmap='gray')"
   ]
  },
  {
   "cell_type": "markdown",
   "metadata": {
    "colab_type": "text",
    "id": "wzAhqm61eApj"
   },
   "source": [
    "A single .mat file consists of:\n",
    "\n",
    "* **PID:** Patient ID for that particular tumor image. This is not a necessary feature.\n",
    "* **image:** Image of the brain tumor\n",
    "* **label:** Label between 1-3 denoting what kind of tumor is present\n",
    "* **tumorBorder:** Coordinates of the tumor present in the image\n",
    "* **tumorMask:** Masked version of the tumor.\n",
    "\n",
    "We'll need the image, label, tumorBorder, tumorMask which are the necessary features that'll help us to detect brain tumors."
   ]
  },
  {
   "cell_type": "markdown",
   "metadata": {
    "colab_type": "text",
    "id": "ewh0lu2Ue1XN"
   },
   "source": [
    "Create new folders named the following:\n",
    "\n",
    "* **new_dataset:** We'll be using this folder to store our images, labels, mask and borders\n",
    "* **bt_images:** We'll store the full brain tumor image in this folder\n",
    "* **bt_mask:** We'll store the mask images of the brain tumor in this folder"
   ]
  },
  {
   "cell_type": "code",
   "execution_count": null,
   "metadata": {
    "colab": {},
    "colab_type": "code",
    "id": "0HaGLuvS5h_m"
   },
   "outputs": [],
   "source": [
    "os.mkdir('/content/drive/My Drive/Colab Notebooks/new_dataset')\n",
    "os.mkdir('/content/drive/My Drive/Colab Notebooks/new_dataset/bt_images') "
   ]
  },
  {
   "cell_type": "markdown",
   "metadata": {
    "colab_type": "text",
    "id": "4VNjICqWfSok"
   },
   "source": [
    "Create empty lists for storing labels\n",
    "\n"
   ]
  },
  {
   "cell_type": "code",
   "execution_count": null,
   "metadata": {
    "colab": {},
    "colab_type": "code",
    "id": "07LqMUXA5BCx"
   },
   "outputs": [],
   "source": [
    "labels = []\n",
    "\n",
    "\n",
    "\n"
   ]
  },
  {
   "cell_type": "markdown",
   "metadata": {
    "colab_type": "text",
    "id": "t_bJP9dOfY6q"
   },
   "source": [
    "Save images of brain tumor, masks and store labels and borders in their respective lists iteratively."
   ]
  },
  {
   "cell_type": "code",
   "execution_count": null,
   "metadata": {
    "colab": {
     "base_uri": "https://localhost:8080/",
     "height": 265
    },
    "colab_type": "code",
    "id": "RYFvHS3Xew7Z",
    "outputId": "192f4640-0b14-45dc-ee35-5db44fe24b7b"
   },
   "outputs": [],
   "source": [
    "filename = None\n",
    "\n",
    "for filename in range(1, 3065):\n",
    "  with h5py.File('/content/drive/My Drive/Colab Notebooks/dataset/imageData/{}.mat'.format(filename), 'r') as f:\n",
    "      img = f['cjdata']['image']\n",
    "      label = f['cjdata']['label'][0][0]\n",
    "     \n",
    "     \n",
    "      labels.append(int(label))\n",
    "      \n",
    "      border.append(coord)\n",
    "      img = np.array(img, dtype=np.float32)\n",
    "      \n",
    "      plt.axis('off')\n",
    "      plt.imsave(\"/content/drive/My Drive/Colab Notebooks/new_dataset/bt_images/{}.jpg\".format(filename), img, cmap='gray')\n",
    "      \n",
    "      \n",
    "print(\"{} files successfully saved\".format(filename))"
   ]
  },
  {
   "cell_type": "markdown",
   "metadata": {
    "colab_type": "text",
    "id": "7WQf_HBUfiQP"
   },
   "source": [
    "Convert the Python lists to a Numpy arrays"
   ]
  },
  {
   "cell_type": "code",
   "execution_count": null,
   "metadata": {
    "colab": {},
    "colab_type": "code",
    "id": "zb8znQzg655F"
   },
   "outputs": [],
   "source": [
    "label_names = np.array(labels, dtype=np.int64)\n"
   ]
  },
  {
   "cell_type": "markdown",
   "metadata": {
    "colab_type": "text",
    "id": "fm6Hemi0fnkR"
   },
   "source": [
    "Check if the array has the right shape & length."
   ]
  },
  {
   "cell_type": "code",
   "execution_count": null,
   "metadata": {
    "colab": {
     "base_uri": "https://localhost:8080/",
     "height": 34
    },
    "colab_type": "code",
    "id": "B5LnQrPE7cqs",
    "outputId": "77b56eb5-a946-4c0b-d4ce-1f56a7b5ea74"
   },
   "outputs": [],
   "source": [
    "label_names.shape"
   ]
  },
  {
   "cell_type": "markdown",
   "metadata": {
    "colab_type": "text",
    "id": "AzBZl4FifsaC"
   },
   "source": [
    "Store the labels and tumor border (coordinates) as a pickle file, which can be loaded whenever we want to use it."
   ]
  },
  {
   "cell_type": "code",
   "execution_count": null,
   "metadata": {
    "colab": {},
    "colab_type": "code",
    "id": "9UbCgJIZ7DSQ"
   },
   "outputs": [],
   "source": [
    "pickle_out = open(\"/content/drive/My Drive/Colab Notebooks/new_dataset/labels.pickle\",\"wb\")                    \n",
    "pickle.dump(label_names, pickle_out)\n",
    "pickle_out.close() "
   ]
  },
  {
   "cell_type": "markdown",
   "metadata": {
    "colab_type": "text",
    "id": "qsKkbR5TdLbl"
   },
   "source": [
    "Create an empty list named 'training_data' in which we'll store our images and their respective labels as arrays"
   ]
  },
  {
   "cell_type": "code",
   "execution_count": null,
   "metadata": {
    "colab": {},
    "colab_type": "code",
    "id": "U8WjocXu9cB9"
   },
   "outputs": [],
   "source": [
    "training_data = []\n",
    "img = None\n",
    "label = None\n",
    "i = None"
   ]
  },
  {
   "cell_type": "markdown",
   "metadata": {
    "colab_type": "text",
    "id": "c3TtXcNpdNVV"
   },
   "source": [
    "Read the images from bt_images folder from Google Drive and convert it to RGB images and store it along with their respective labels in the training_data list."
   ]
  },
  {
   "cell_type": "code",
   "execution_count": null,
   "metadata": {
    "colab": {},
    "colab_type": "code",
    "id": "SICvCO6rdBLQ"
   },
   "outputs": [],
   "source": [
    "for i in range(1, 3065):\n",
    "  img = cv2.imread(\"/content/drive/My Drive/Colab Notebooks/new_dataset/bt_images/{}.jpg\".format(i), cv2.IMREAD_GRAYSCALE)\n",
    "  img = cv2.cvtColor(img, cv2.COLOR_GRAY2RGB)\n",
    "  img = cv2.resize(img, (512, 512))\n",
    "  label = label_names[i-1]\n",
    "  training_data.append([img, label])\n",
    "\n",
    "print(\"shape: {} label: {} | {} samples successfully preprocessed\".format(img.shape, label, i))\n",
    "\n",
    "pickle_out = open(\"/content/drive/My Drive/Colab Notebooks/new_dataset/training_data.pickle\",\"wb\")                    \n",
    "pickle.dump(training_data, pickle_out)\n",
    "pickle_out.close()"
   ]
  },
  {
   "cell_type": "markdown",
   "metadata": {
    "colab_type": "text",
    "id": "P0vHOhwWdR_V"
   },
   "source": [
    "Store the training_data list as a pickle file"
   ]
  },
  {
   "cell_type": "code",
   "execution_count": null,
   "metadata": {},
   "outputs": [],
   "source": []
  },
  {
   "cell_type": "code",
   "execution_count": null,
   "metadata": {},
   "outputs": [],
   "source": []
  },
  {
   "cell_type": "code",
   "execution_count": null,
   "metadata": {},
   "outputs": [],
   "source": []
  },
  {
   "cell_type": "code",
   "execution_count": null,
   "metadata": {},
   "outputs": [],
   "source": []
  }
 ],
 "metadata": {
  "accelerator": "GPU",
  "colab": {
   "collapsed_sections": [],
   "machine_shape": "hm",
   "name": "brain_tumor_dataset_preparation.ipynb",
   "provenance": []
  },
  "kernelspec": {
   "display_name": "Python 3 (ipykernel)",
   "language": "python",
   "name": "python3"
  },
  "language_info": {
   "codemirror_mode": {
    "name": "ipython",
    "version": 3
   },
   "file_extension": ".py",
   "mimetype": "text/x-python",
   "name": "python",
   "nbconvert_exporter": "python",
   "pygments_lexer": "ipython3",
   "version": "3.10.9"
  }
 },
 "nbformat": 4,
 "nbformat_minor": 1
}
